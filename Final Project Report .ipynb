{
 "cells": [
  {
   "cell_type": "markdown",
   "metadata": {},
   "source": [
    "# Capstone Project - Final Report "
   ]
  },
  {
   "cell_type": "raw",
   "metadata": {
    "collapsed": true
   },
   "source": [
    "Introduction \n",
    "\n",
    "Background \n",
    "    Graduating from graduate school this coming summer, I have been faced with the hard question of “What next?”. Planning on beginning a career in data science and moving to a new location, I now have to narrow down which areas in the new location will be the best for me to move to. I will be utilizing the Foursquare location data to explore the neighborhoods and venues of Toronto, Ontario, which is one of my top relocation choices. \n",
    "\n",
    "    Venue categories will be found to help determine if the areas suit my interests and has a wide variety of places nearby. Then neighborhoods matching my interests can be narrowed down and the most popular venues of each location found. This will help narrow down which places are most frequented in each neighborhood, and in turn, help someone decide if that neighborhood is somewhere, they would want to live.\n",
    "\n",
    "\n",
    "Problem \n",
    "    After speaking with several friends and also hearing about their acquaintances, it seems common that young professionals and new graduates are in a similar position as me – wanting to move somewhere new when beginning a career, but not being familiar with the area and not knowing where to live. Having a way to find out what spots are available in a certain location – even if you are not familiar with it - would be extremely helpful for everyone in this position. As similar as this project is to the one from week three, it is actually relevant to me and several peers, contemplating moving to Toronto this coming summer – but unable to visit due to the current pandemic. \n",
    "\n",
    "\t\n",
    "Interest\n",
    "    The location I will be exploring for this project is Toronto, Ontario because it has always been a place, I have been interested in moving to since visiting as a small child. Toronto has many job opportunities I am interested in as well as having a wide variety of social activities as well as affordable living arrangements. There are also several other young professionals I am acquainted with, who are interested in moving to Canada as well, so the information learned from this project would likewise be applicable to them.\n",
    "\n",
    "\n",
    "\n",
    "Data\t\n",
    "\tSource of data \n",
    "  The source of the data will be from a Wikipedia website, containing the information of all of the Toronto boroughs. While there are many other websites containing the same information, Wikipedia will be the least complicated to scrap data from. The dataframe will be divided into the columns of postal code, borough, and neighborhood. Attached below is the link to the table scrapped from Wikipedia.\n",
    "https://en.wikipedia.org/wiki/List_of_postal_codes_of_Canada:_M\n",
    "\n",
    "\tScrapping of data\n",
    "  The data was scrapped from the Wikipedia tables using some aspects of the code developed for the assignment in week three. \n",
    "\n",
    "\tData cleaning \n",
    "  The first step in cleaning the data was to remove cells with boroughs that were not assigned, and then to assign neighborhoods with unassigned boroughs to the same borough. If there were postal codes with more than one neighborhood, they were then assigned to the same row. No columns needed to be dropped or added to the table. \n",
    "\n",
    "\n",
    "Methodology\n",
    "\n",
    "\tExploratory data analysis \n",
    "  Using the latitude and longitude of each neighborhood, found using foursquare location data, I determined which venues could be found in each neighborhood. This will help to narrow down which areas I would want to live in by seeing which areas have venues related to my interests. The dataframe was then manipulated to show the different types of venues available across the different areas and how many are in each neighborhood. Next, I found the top 10 locations in each neighborhood, further enabling me the be able to narrow down which neighborhoods would not meet my interests based on which venues were most popular in the area. \n",
    "\n",
    "\tInferential statistics/Machine learning\n",
    "  There was no need to utilize machine learning during this analysis and the closest association to inferential statistics was the frequency count of each of the most visited venues. Allowing one to see how often that venue was visited in proportion to the other top venues in the neighborhood. \n",
    "\n",
    "\n",
    "Results \n",
    "    The results from the analysis would be considered which neighborhoods (if any) I discovered that contained venues of interest and were places I could consider myself living in. Of the 93 total neighborhoods these were my top areas of interest, based off the top 10 venues and my own personal interests: Berczy Park, Central Bay Street, Christie, Commerce Court, Victoria Hotel, Don Mills, Union Station, Toronto Islands, Little Portugal, Trinity, North Toronto West, Lawrence Park, Parkdale, Studio District, and Regent Park. While it does seem like a lot of choices, it’s not guaranteed that there will be affordable housing in each area, or any housing available. Giving me a wide variety of places, I could potentially live in. My personal interest in these areas were based on food cuisine choices, coffee shops, gyms, and athletic related activities. The areas with all/a majority of these options, were the ones chosen above. \n",
    "\n",
    "\n",
    "Discussion \n",
    "\n",
    "\tObservations \n",
    "  Toronto has a very diverse group of neighborhood venues from gay bars to dog runs. Each neighborhood had many more venues than the amount the neighborhoods in my current city contain. While some neighborhoods definitely contained a very specific type of venue, like restaurants or retail, overall – most of the venues has at least a coffee shop, restaurants, and some kind of store. My current city has several large areas, not just neighborhoods, that contain most of the restaurants or nightlife, but I like the idea of each neighborhood containing its own little “city”. \n",
    "\n",
    "\tRecommendations \n",
    "  If I were to do this type of analysis again, I would try to also add cost of housing in each neighborhood or borough to the dataframe. This is an equally important information, on top of an area containing venues of your interest, needed to determine which area would be the most suitable for one’s preferences and needs. \n",
    "\n",
    "\n",
    "Conclusion \n",
    "    Again, while this project used the same location data from a previous assignment, it is relevant to a current issue I am facing – as well as several other young professionals I am acquainted with. Using location data to be able to explore/analyze places of interest, especially when you are unfamiliar with or unable to visit the places in person, is very helpful for anything trying to decide where to move to or even when trying to figure out which area to start a business in. This project concludes the IBM Data Science Professional Certificate and is just a glimpse of all of the skills learned and developed through the previous 9 courses taken. \n"
   ]
  }
 ],
 "metadata": {
  "kernelspec": {
   "display_name": "Python 3.7",
   "language": "python",
   "name": "python3"
  },
  "language_info": {
   "codemirror_mode": {
    "name": "ipython",
    "version": 3
   },
   "file_extension": ".py",
   "mimetype": "text/x-python",
   "name": "python",
   "nbconvert_exporter": "python",
   "pygments_lexer": "ipython3",
   "version": "3.7.9"
  }
 },
 "nbformat": 4,
 "nbformat_minor": 1
}
