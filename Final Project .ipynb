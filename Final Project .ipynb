{
 "cells": [
  {
   "cell_type": "markdown",
   "metadata": {
    "collapsed": true
   },
   "source": [
    "# IBM Data Science Professional Certificate - Final Project"
   ]
  },
  {
   "cell_type": "markdown",
   "metadata": {},
   "source": [
    "## Introduction/Business Problem "
   ]
  },
  {
   "cell_type": "markdown",
   "metadata": {},
   "source": [
    "Graduating from graduate school this coming summer, I have been faced with the hard question of “What next?”. Planning on beginning a career in data science and moving to a new location, I now have to narrow down the relocation options I have. This same situation affects many young professionals and new graduates, so having a way to compare several different locations and what is available in those locations, would be vital in helping to choose which location would be the best fit for one’s interests. \n",
    "\n",
    "With the location data available from Foursquare, it is possible to explore different cities around the country and determine what venues are available in each location based off personal interests. This data will help those decide which place would be the best for their needs, even if they are not familiar with the local areas of the desired location. \n"
   ]
  },
  {
   "cell_type": "markdown",
   "metadata": {},
   "source": [
    "## Data"
   ]
  },
  {
   "cell_type": "markdown",
   "metadata": {},
   "source": [
    "The locations I will be exploring for this project are London, England, Austin, TX, Denver, CO, and Charlotte, NC. In order to explore the neighborhoods and venues in each location, I will be utilizing the Foursquare location data. Venue categories will be found to help determine if there are areas the suit the interests of the one searching for the data. Neighborhoods matching the interests of the intended can then be narrowed down and the most popular venues of each location can then be found. This will help narrow down which places are most frequented in each neighborhood, and in turn, help someone decide if that neighborhood is somewhere, they would want to live. Upon the completion of this project, I will have narrowed down which location better fits my interests, which neighborhoods I would want to relocate to, and have a clearer picture of which location overall suits my needs. "
   ]
  },
  {
   "cell_type": "code",
   "execution_count": null,
   "metadata": {},
   "outputs": [],
   "source": []
  }
 ],
 "metadata": {
  "kernelspec": {
   "display_name": "Python 3.7",
   "language": "python",
   "name": "python3"
  },
  "language_info": {
   "codemirror_mode": {
    "name": "ipython",
    "version": 3
   },
   "file_extension": ".py",
   "mimetype": "text/x-python",
   "name": "python",
   "nbconvert_exporter": "python",
   "pygments_lexer": "ipython3",
   "version": "3.7.9"
  }
 },
 "nbformat": 4,
 "nbformat_minor": 1
}
