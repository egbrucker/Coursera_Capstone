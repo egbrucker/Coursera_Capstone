{
 "cells": [
  {
   "cell_type": "markdown",
   "metadata": {
    "collapsed": true
   },
   "source": [
    "# IBM Data Science Professional Certificate - Final Project"
   ]
  },
  {
   "cell_type": "markdown",
   "metadata": {},
   "source": [
    "## Introduction/Business Problem "
   ]
  },
  {
   "cell_type": "markdown",
   "metadata": {},
   "source": [
    "Graduating from graduate school this coming summer, I have been faced with the hard question of “What next?”. Planning on beginning a career in data science and moving to a new location, I now have to narrow down the relocation options I have. This same situation affects many young professionals and new graduates, so having a way to find out what is available in a location – even if you are not familiar with it - would be extremely helpful.\n",
    "\n",
    "With the location data available from Foursquare, it is possible to explore different cities around the country and determine what venues are available in each location based off personal interests. This data will help those decide which place would be the best for their needs, even if they are not familiar with the local areas of the desired location. \n",
    "\n"
   ]
  },
  {
   "cell_type": "markdown",
   "metadata": {},
   "source": [
    "## Data"
   ]
  },
  {
   "cell_type": "markdown",
   "metadata": {},
   "source": [
    "The location I will be exploring for this project is London, England because it has always been a goal of mine to move overseas. In order to explore the neighborhoods and venues in this location, I will be utilizing the Foursquare location data. Venue categories will be found to help determine if there are areas that suit my interests. Neighborhoods matching my interests can then be narrowed down and the most popular venues of each location can then be found. This will help narrow down which places are most frequented in each neighborhood, and in turn, help someone decide if that neighborhood is somewhere, they would want to live. Upon the completion of this project, I will have narrowed down which boroughs would best fit my interests in the event I find an opportunity that would enable me to move to London. \n",
    "\n",
    "Data for the London borough will be scraped from this Wikipedia site - https://en.wikipedia.org/wiki/List_of_places_in_London- and will be divided into the columns of London Boroughs, Inner/Outer, Sub-region, and London Assembly. \n"
   ]
  },
  {
   "cell_type": "code",
   "execution_count": null,
   "metadata": {},
   "outputs": [],
   "source": []
  }
 ],
 "metadata": {
  "kernelspec": {
   "display_name": "Python 3.7",
   "language": "python",
   "name": "python3"
  },
  "language_info": {
   "codemirror_mode": {
    "name": "ipython",
    "version": 3
   },
   "file_extension": ".py",
   "mimetype": "text/x-python",
   "name": "python",
   "nbconvert_exporter": "python",
   "pygments_lexer": "ipython3",
   "version": "3.7.9"
  }
 },
 "nbformat": 4,
 "nbformat_minor": 1
}
